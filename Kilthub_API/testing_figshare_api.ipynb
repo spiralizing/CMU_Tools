{
 "cells": [
  {
   "cell_type": "code",
   "execution_count": 1,
   "metadata": {},
   "outputs": [],
   "source": [
    "import time\n",
    "import swagger_client\n",
    "from swagger_client.rest import ApiException\n",
    "from pprint import pprint\n",
    "\n",
    "# Configure OAuth2 access token for authorization: OAuth2\n",
    "#swagger_client.configuration.access_token = '472a377327b51cfae63886af7744cea0886c366d2c1da513985355f54b4aa77b8b3b900706314ccad9d53b0c3fe10533a8a0dcd3375f39f25a21c04faa23e588'\n",
    "\n",
    "# create an instance of the API class\n",
    "api_instance = swagger_client.InstitutionsApi()\n",
    "#api_instance = swagger_client.ArticlesApi()\n",
    "\n",
    "#page = 789 # Long | Page number. Used for pagination with page_size (optional)\n",
    "#pageSize = 789 # Long | The number of results included on a page. Used for pagination with page (optional) (default to 10)\n",
    "limit = 789 # Long | Number of results included on a page. Used for pagination with query (optional)\n",
    "#offset = 789 # Long | Where to start the listing(the offset of the first result). Used for pagination with limit (optional)\n",
    "#order = order_example # String | The field by which to order. Default varies by endpoint/resource. (optional) (default to published_date)\n",
    "#orderDirection = orderDirection_example # String |  (optional) (default to desc)\n",
    "#publishedSince = publishedSince_example # String | Filter by article publishing date. Will only return articles published after the date. date(ISO 8601) YYYY-MM-DD (optional)\n",
    "#modifiedSince = modifiedSince_example # String | Filter by article modified date. Will only return articles published after the date. date(ISO 8601) YYYY-MM-DD (optional)\n",
    "#status = 789 # Long | only return collections with this status (optional)\n",
    "#resourceDoi = resourceDoi_example # String | only return collections with this resource_doi (optional)\n",
    "#itemType = 789 # Long | Only return articles with the respective type. Mapping for item_type is: 1 - Figure, 2 - Media, 3 - Dataset, 5 - Poster, 6 - Journal contribution, 7 - Presentation, 8 - Thesis, 9 - Software, 11 - Online resource, 12 - Preprint, 13 - Book, 14 - Conference contribution, 15 - Chapter, 16 - Peer review, 17 - Educational resource, 18 - Report, 19 - Standard, 20 - Composition, 21 - Funding, 22 - Physical object, 23 - Data management plan, 24 - Workflow, 25 - Monograph, 26 - Performance, 27 - Event, 28 - Service, 29 - Model (optional)\n",
    "swagger_client.configuration.access_token = '472a377327b51cfae63886af7744cea0886c366d2c1da513985355f54b4aa77b8b3b900706314ccad9d53b0c3fe10533a8a0dcd3375f39f25a21c04faa23e588'\n",
    "#swagger_client.configuration.client_id = 'd6721372869af3e76b624979dec89ff97007588e'\n",
    "#swagger_client.configuration.client_secret = '023fa9600c9294db680e8cffa4ad0c70ead1bd7b3aaec8f6ce3b2b07d7499ec8b4bb92b794e192c018b105d770eba0e2ca618bae2356dac5a6dca73a48f05b61'\n"
   ]
  },
  {
   "cell_type": "code",
   "execution_count": 2,
   "metadata": {},
   "outputs": [
    {
     "name": "stdout",
     "output_type": "stream",
     "text": [
      "Exception when calling InstitutionsApi->privateInstitutionArticles: (403)\n",
      "Reason: Forbidden\n",
      "HTTP response headers: HTTPHeaderDict({'Date': 'Mon, 24 Jun 2024 18:26:22 GMT', 'Content-Type': 'application/json', 'Content-Length': '63', 'Connection': 'keep-alive', 'Server': 'nginx', 'Vary': 'Accept-Encoding', 'Access-Control-Allow-Origin': 'https://api.figshare.com', 'Access-Control-Allow-Methods': 'GET, POST, PUT, DELETE, OPTIONS', 'Access-Control-Allow-Headers': 'Keep-Alive,User-Agent,X-Requested-With,If-Modified-Since,Cache-Control,Content-Type,Authorization', 'Access-Control-Max-Age': '3600'})\n",
      "HTTP response body: {\"message\": \"Missing OAuth token\", \"code\": \"OAuthMissingToken\"}\n",
      "\n",
      "\n"
     ]
    }
   ],
   "source": [
    "\n",
    "try: \n",
    "    # Private Institution Articles\n",
    "    api_response = api_instance.private_institution_articles(limit=10, item_type=3)\n",
    "    #api_response = api_instance.articles_list(limit=10, item_type=3)\n",
    "    pprint(api_response)\n",
    "except ApiException as e:\n",
    "    print(\"Exception when calling InstitutionsApi->privateInstitutionArticles: %s\\n\" % e)"
   ]
  },
  {
   "cell_type": "code",
   "execution_count": 19,
   "metadata": {},
   "outputs": [],
   "source": [
    "swagger_client.configuration.username = 'd6721372869af3e76b624979dec89ff97007588e'\n",
    "swagger_client.configuration.password = '023fa9600c9294db680e8cffa4ad0c70ead1bd7b3aaec8f6ce3b2b07d7499ec8b4bb92b794e192c018b105d770eba0e2ca618bae2356dac5a6dca73a48f05b61'"
   ]
  },
  {
   "cell_type": "code",
   "execution_count": null,
   "metadata": {},
   "outputs": [],
   "source": []
  }
 ],
 "metadata": {
  "kernelspec": {
   "display_name": "Python 3",
   "language": "python",
   "name": "python3"
  },
  "language_info": {
   "codemirror_mode": {
    "name": "ipython",
    "version": 3
   },
   "file_extension": ".py",
   "mimetype": "text/x-python",
   "name": "python",
   "nbconvert_exporter": "python",
   "pygments_lexer": "ipython3",
   "version": "3.11.9"
  }
 },
 "nbformat": 4,
 "nbformat_minor": 2
}

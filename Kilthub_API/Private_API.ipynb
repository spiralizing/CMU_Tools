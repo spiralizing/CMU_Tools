{
 "cells": [
  {
   "cell_type": "markdown",
   "metadata": {},
   "source": [
    "# KiltHub API tests "
   ]
  },
  {
   "cell_type": "code",
   "execution_count": null,
   "metadata": {},
   "outputs": [],
   "source": [
    "# credentials \n",
    "\n",
    "BASE_URL = 'https://api.figshare.com/v2'\n",
    "TOKEN = 'ENTER TOKEN BETWEEN QUOTES'\n",
    "CHUNK_SIZE = 10485760 #about 10MB\n",
    "\n",
    "api_call_headers = {'Authorization': 'token ' + TOKEN}\n"
   ]
  },
  {
   "cell_type": "code",
   "execution_count": null,
   "metadata": {},
   "outputs": [],
   "source": [
    "def ProcessUserByID(request):\n",
    "    if request.method == 'GET':\n",
    "        formresult = request.GET\n",
    "\n",
    "    ID = formresult.get(\"ID\")\n",
    "    token = FigshareToken.objects.get(name = 'FigshareToken')\n",
    "\n",
    "    headers = {\n",
    "        'content-type': \"application/json\",\n",
    "        'authorization': \"token \" + token.token #Formatting for the API for this query\n",
    "        }\n",
    "    # perform the api call\n",
    "    json_results = api_requests.get(baseURL + \"account/institution/accounts/\" + ID, headers=headers)\n",
    "    \n",
    "    return render(request, \"getUserByIDResult.html\",{'results':json_results.text})"
   ]
  },
  {
   "cell_type": "code",
   "execution_count": null,
   "metadata": {},
   "outputs": [],
   "source": [
    "def list_files_of_article(article_id):\n",
    "    result = issue_request('GET', 'account/articles/{}/files'.format(article_id))\n",
    "    print('Listing files for article {}:'.format(article_id))\n",
    "    if result:\n",
    "        for item in result:\n",
    "            print('  {id} - {name}'.format(**item))\n",
    "    else:\n",
    "        print('  No files.')"
   ]
  },
  {
   "cell_type": "code",
   "execution_count": null,
   "metadata": {},
   "outputs": [],
   "source": []
  }
 ],
 "metadata": {
  "language_info": {
   "name": "python"
  }
 },
 "nbformat": 4,
 "nbformat_minor": 2
}

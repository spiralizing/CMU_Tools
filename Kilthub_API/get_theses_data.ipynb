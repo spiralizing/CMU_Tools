{
 "cells": [
  {
   "cell_type": "code",
   "execution_count": 1,
   "metadata": {},
   "outputs": [],
   "source": [
    "from collections import Counter\n",
    "\n",
    "import json\n",
    "import requests\n",
    "import pandas as pd"
   ]
  },
  {
   "cell_type": "code",
   "execution_count": 2,
   "metadata": {},
   "outputs": [],
   "source": [
    "# data loaded from a previous query, to check how data was retrieved see the notebook \"GET_PUBLIC_METADATA.ipynb\"\n",
    "public_articles = json.load(open('public_articles_data.json'))"
   ]
  },
  {
   "cell_type": "code",
   "execution_count": 4,
   "metadata": {},
   "outputs": [],
   "source": [
    "theses = []\n",
    "\n",
    "for article in public_articles:\n",
    "    if article['defined_type_name'] == 'thesis':\n",
    "        theses.append(article)"
   ]
  },
  {
   "cell_type": "code",
   "execution_count": 6,
   "metadata": {},
   "outputs": [
    {
     "data": {
      "text/plain": [
       "3548"
      ]
     },
     "execution_count": 6,
     "metadata": {},
     "output_type": "execute_result"
    }
   ],
   "source": [
    "len(theses)"
   ]
  },
  {
   "cell_type": "code",
   "execution_count": 17,
   "metadata": {},
   "outputs": [],
   "source": [
    "short_version = []\n",
    "for thesis in theses:\n",
    "    short_version.append({\n",
    "        'title': thesis['title'],\n",
    "        'authors': thesis['authors'],\n",
    "        'details': thesis['custom_fields'],\n",
    "        'description': thesis['description'],\n",
    "        'keywords': thesis['tags'],\n",
    "        'url': thesis['url_public_api'],\n",
    "        'doi': thesis['doi']\n",
    "    })"
   ]
  },
  {
   "cell_type": "code",
   "execution_count": 18,
   "metadata": {},
   "outputs": [
    {
     "data": {
      "text/plain": [
       "{'title': 'Better Inference with Graph Regularization',\n",
       " 'authors': [{'id': 4930525,\n",
       "   'full_name': 'Harlin Lee',\n",
       "   'is_active': True,\n",
       "   'url_name': 'Harlin_Lee',\n",
       "   'orcid_id': ''}],\n",
       " 'details': [{'name': 'Publisher Statement', 'value': ''},\n",
       "  {'name': 'Date', 'value': '2021-06-13'},\n",
       "  {'name': 'Degree Type', 'value': ['Dissertation']},\n",
       "  {'name': 'Department', 'value': ['Electrical and Computer Engineering']},\n",
       "  {'name': 'Degree Name', 'value': ['Doctor of Philosophy (PhD)']},\n",
       "  {'name': 'Advisor(s)', 'value': 'Yuejie Chi'}],\n",
       " 'description': '<div>Improved storage, sensing, and automated data collection technology has resulted in a world full of data that are noisy, incomplete, high-dimensional, and of astronomical size.</div><div>This abundance of data motivates data-driven approaches to signal processing, while their messiness calls for more robust and accurate inference methods, e.g. by leveraging the structure of the data. Graphs are a natural choice to represent a diversity of structures inherent in data. Many physical signals are generated from graph-structured objects such as road and sensor networks, and time-series signals and images can be generalized to graph signals. Moreover, graphs can encode complex relationships and interactions between objects, e.g. via similarity graphs. This thesis studies how graph regularization can help solve challenging inference problems more accurately and quickly. Graph regularization is a flexible technique that drives</div><div>solutions of optimization problems to have desired properties with respect to a graph. We incorporate graph regularization into various learning tasks (denoising, matrix factorization, and distributed multitask learning) as well as signals of varying data complexity (scalars, vectors, and matrices). We first analyze the performance of non-convex regularizers in denoising, and observe both theoretically and experimentally that the power of graph regularization is bounded by how accurately the graph captures the underlying structure in the data. Next, we propose a fast algorithm to solve matrix factorization with a total-variation-based regularizer, and illustrate its application to hyperspectral unmixing. Finally, we derive a simple fusion framework for distributed multitask learning that linearly combines local estimates based on the task similarities and difficulties. This circumvents the complications around data sharing, e.g. privacy, and requires only one round</div><div>of communication. The proposed method is instantiated to linear regression and principal component analysis (PCA), and is verified on simulated data.</div>',\n",
       " 'keywords': ['data science',\n",
       "  'denoising',\n",
       "  'distributed multitask learning',\n",
       "  'graph regularization',\n",
       "  'hyperspectral unmixing',\n",
       "  'statistical signal processing'],\n",
       " 'url': 'https://api.figshare.com/v2/articles/19229556',\n",
       " 'doi': '10.1184/R1/19229556.v1'}"
      ]
     },
     "execution_count": 18,
     "metadata": {},
     "output_type": "execute_result"
    }
   ],
   "source": [
    "short_version[1000]"
   ]
  },
  {
   "cell_type": "code",
   "execution_count": 9,
   "metadata": {},
   "outputs": [
    {
     "data": {
      "text/plain": [
       "{'files': [{'id': 46509172,\n",
       "   'name': 'Ding_cmu_0041E_11157.pdf',\n",
       "   'size': 33184428,\n",
       "   'is_link_only': False,\n",
       "   'download_url': 'https://ndownloader.figshare.com/files/46509172',\n",
       "   'supplied_md5': '6977298c1357d4a9b57aec30945db3a1',\n",
       "   'computed_md5': '6977298c1357d4a9b57aec30945db3a1',\n",
       "   'mimetype': 'application/pdf'}],\n",
       " 'custom_fields': [{'name': 'Publisher Statement', 'value': ''},\n",
       "  {'name': 'Date', 'value': '2024-05-30'},\n",
       "  {'name': 'Degree Type', 'value': ['Dissertation']},\n",
       "  {'name': 'Department', 'value': ['Mechanical Engineering']},\n",
       "  {'name': 'Degree Name', 'value': ['Doctor of Philosophy (PhD)']},\n",
       "  {'name': 'Advisor(s)', 'value': 'Ding Zhao'}],\n",
       " 'authors': [{'id': 18746116,\n",
       "   'full_name': 'Wenhao Ding',\n",
       "   'is_active': True,\n",
       "   'url_name': 'Wenhao_Ding',\n",
       "   'orcid_id': ''}],\n",
       " 'figshare_url': 'https://kilthub.cmu.edu/articles/thesis/Generative_AI_for_Critical_Digital_Twins/25892518',\n",
       " 'download_disabled': False,\n",
       " 'description': '<p>\\xa0Training and evaluating autonomous robots within the real world present significant challenges and risks, emanating from unpredictable environments, safety \\xa0concerns, ethical dilemmas, and limited human oversight. As a mitigation strategy, \\xa0the use of realistic simulations, also known as digital twins, offers virtual duplication \\xa0of the actual system or environment, thus fostering the development of trustworthy \\xa0autonomy. \\xa0</p>\\n<p>Digital twins enable developers to evaluate the performance of systems in various \\xa0scenarios to identify potential risks or failure cases. It facilitates the accumulation \\xa0and subsequent analysis of datasets, which serve to validate and calibrate the au tonomous system’s perception and decision-making algorithms. By comparing the \\xa0behavior of the digital twin with real-world data, developers can identify discrepan cies, improve accuracy, and enhance the system’s safety and reliability. \\xa0</p>\\n<p>Scenarios that embody dynamic and interactive components reflect the intrica cies of digital twins and take precedence in significance. One main value of digital \\xa0twins is helping us understand how objects interact and behave. For example, in \\xa0autonomous driving, the behavior of vehicles, pedestrians, and traffic conditions are \\xa0crucial components of scenarios that need to be accurately modeled. However, not \\xa0all scenarios in digital twins are created equal. In the pursuit of developing trustwor thy autonomy, ordinary scenarios often prove insufficient in subjecting autonomous \\xa0systems to extreme conditions where safety and robustness are paramount. Although \\xa0critical scenarios hold the potential to expose model vulnerabilities, their rare occur rence creates a challenge. The process of manually identifying or extrapolating such \\xa0critical scenarios from normal data or expert design proves not only inefficient but \\xa0also contains substantial human biases. \\xa0</p>\\n<p>My doctoral research seeks to harness the potential of generative AI to explore \\xa0two pivotal questions: (1) Which scenarios are critical in existing data and (2) How \\xa0to generate such scenarios in digital twins? The proposal begins with the definition \\xa0of critical scenarios and the corresponding optimization problem and subsequently \\xa0delves into three distinct categories of scenario generation frameworks: data-driven \\xa0generative models, adversarial generative models, and knowledge-guided gen erative models. Concluding this thesis is future directions that effectively combine \\xa0generation resources from different perspectives and improve the data flywheel by\\xa0</p>',\n",
       " 'funding': None,\n",
       " 'funding_list': [],\n",
       " 'version': 1,\n",
       " 'status': 'public',\n",
       " 'size': 33184428,\n",
       " 'created_date': '2024-06-05T21:55:48Z',\n",
       " 'modified_date': '2024-06-05T21:55:48Z',\n",
       " 'is_public': True,\n",
       " 'is_confidential': False,\n",
       " 'is_metadata_record': False,\n",
       " 'confidential_reason': '',\n",
       " 'metadata_reason': '',\n",
       " 'license': {'value': 1,\n",
       "  'name': 'CC BY 4.0',\n",
       "  'url': 'https://creativecommons.org/licenses/by/4.0/'},\n",
       " 'tags': ['Autonomous Driving', 'Digital Twins', 'Generative AI'],\n",
       " 'categories': [{'id': 91,\n",
       "   'title': 'Mechanical Engineering',\n",
       "   'parent_id': 5,\n",
       "   'path': '',\n",
       "   'source_id': '',\n",
       "   'taxonomy_id': 10}],\n",
       " 'references': [],\n",
       " 'has_linked_file': False,\n",
       " 'citation': 'Ding, Wenhao (2024). Generative AI for Critical Digital Twins. Carnegie Mellon University. Thesis. https://doi.org/10.1184/R1/25892518.v1',\n",
       " 'related_materials': [],\n",
       " 'is_embargoed': False,\n",
       " 'embargo_date': None,\n",
       " 'embargo_type': 'file',\n",
       " 'embargo_title': '',\n",
       " 'embargo_reason': '',\n",
       " 'embargo_options': [],\n",
       " 'id': 25892518,\n",
       " 'title': 'Generative AI for Critical Digital Twins',\n",
       " 'doi': '10.1184/R1/25892518.v1',\n",
       " 'handle': '',\n",
       " 'url': 'https://api.figshare.com/v2/articles/25892518',\n",
       " 'published_date': '2024-06-05T21:55:48Z',\n",
       " 'thumb': 'https://s3-eu-west-1.amazonaws.com/ppreviews-cmu-49810598590254/46509172/thumb.png',\n",
       " 'defined_type': 8,\n",
       " 'defined_type_name': 'thesis',\n",
       " 'group_id': 18614,\n",
       " 'url_private_api': 'https://api.figshare.com/v2/account/articles/25892518',\n",
       " 'url_public_api': 'https://api.figshare.com/v2/articles/25892518',\n",
       " 'url_private_html': 'https://figshare.com/account/articles/25892518',\n",
       " 'url_public_html': 'https://kilthub.cmu.edu/articles/thesis/Generative_AI_for_Critical_Digital_Twins/25892518',\n",
       " 'timeline': {'posted': '2024-06-05T21:55:48',\n",
       "  'firstOnline': '2024-06-05T21:55:48'},\n",
       " 'resource_title': None,\n",
       " 'resource_doi': None}"
      ]
     },
     "execution_count": 9,
     "metadata": {},
     "output_type": "execute_result"
    }
   ],
   "source": [
    "theses[1]"
   ]
  },
  {
   "cell_type": "code",
   "execution_count": 19,
   "metadata": {},
   "outputs": [],
   "source": [
    "with open('cmu_publicapi_theses_short.json', 'w') as f:\n",
    "    json.dump(short_version, f, indent=4)"
   ]
  },
  {
   "cell_type": "code",
   "execution_count": null,
   "metadata": {},
   "outputs": [],
   "source": []
  }
 ],
 "metadata": {
  "kernelspec": {
   "display_name": "Python 3",
   "language": "python",
   "name": "python3"
  },
  "language_info": {
   "codemirror_mode": {
    "name": "ipython",
    "version": 3
   },
   "file_extension": ".py",
   "mimetype": "text/x-python",
   "name": "python",
   "nbconvert_exporter": "python",
   "pygments_lexer": "ipython3",
   "version": "3.11.9"
  }
 },
 "nbformat": 4,
 "nbformat_minor": 2
}
